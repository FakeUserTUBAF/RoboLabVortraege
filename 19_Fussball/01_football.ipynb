{
 "cells": [
  {
   "cell_type": "markdown",
   "metadata": {},
   "source": [
    "# Nach dem Spiel ist vor dem Spiel \n",
    "\n",
    "## Arbeitsblatt\n",
    "\n",
    "Vortrag im Rahmen der Bits&Bytes Vorträge des RoboLab Freiberg \n",
    "\n",
    "Prof. Dr. Sebastian Zug - TU Bergakademie Freiberg\n",
    "\n",
    "-------------------------------------"
   ]
  },
  {
   "cell_type": "markdown",
   "metadata": {},
   "source": [
    "Dieses Tutorial basiert in Teilen auf dem Materialien und dem Demo-Kurs von Mart Jürisoo [Datensammlung auf Github](https://github.com/martj42/international_results).\n",
    "\n",
    "> Wenn Ihnen fehlende Spiele auffallen, können Sie diese gerne ergänzen und einen Pull-Request erstellen."
   ]
  },
  {
   "cell_type": "code",
   "execution_count": null,
   "metadata": {},
   "outputs": [],
   "source": []
  }
 ],
 "metadata": {
  "kernelspec": {
   "display_name": "19_Fussball-W2EOnmfY",
   "language": "python",
   "name": "python3"
  },
  "language_info": {
   "codemirror_mode": {
    "name": "ipython",
    "version": 3
   },
   "file_extension": ".py",
   "mimetype": "text/x-python",
   "name": "python",
   "nbconvert_exporter": "python",
   "pygments_lexer": "ipython3",
   "version": "3.10.12"
  }
 },
 "nbformat": 4,
 "nbformat_minor": 2
}
