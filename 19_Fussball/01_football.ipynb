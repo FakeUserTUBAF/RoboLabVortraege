{
 "cells": [
  {
   "cell_type": "markdown",
   "metadata": {},
   "source": [
    "# Nach dem Spiel ist vor dem Spiel \n",
    "\n",
    "## Arbeitsblatt\n",
    "\n",
    "Vortrag im Rahmen der Bits&Bytes Vorträge des RoboLab Freiberg \n",
    "\n",
    "Prof. Dr. Sebastian Zug - TU Bergakademie Freiberg\n",
    "\n",
    "-------------------------------------\n",
    "\n",
    "[![Open In Colab](https://colab.research.google.com/assets/colab-badge.svg)](https://colab.research.google.com/github/SebastianZug/RoboLabVortraege/blob/main/19_Fussball/01_football.ipynb)"
   ]
  },
  {
   "cell_type": "markdown",
   "metadata": {},
   "source": [
    "Dieses Tutorial basiert in Teilen auf dem Materialien und dem Demo-Kurs von Mart Jürisoo [Datensammlung auf Github](https://github.com/martj42/international_results).\n",
    "\n",
    "Der Datensatz der Ergebnisse kann unter `https://raw.githubusercontent.com/martj42/international_results/master/results.csv` abgerufen werden."
   ]
  },
  {
   "cell_type": "code",
   "execution_count": null,
   "metadata": {},
   "outputs": [],
   "source": []
  }
 ],
 "metadata": {
  "kernelspec": {
   "display_name": "19_Fussball-W2EOnmfY",
   "language": "python",
   "name": "python3"
  },
  "language_info": {
   "codemirror_mode": {
    "name": "ipython",
    "version": 3
   },
   "file_extension": ".py",
   "mimetype": "text/x-python",
   "name": "python",
   "nbconvert_exporter": "python",
   "pygments_lexer": "ipython3",
   "version": "3.10.12"
  }
 },
 "nbformat": 4,
 "nbformat_minor": 2
}
